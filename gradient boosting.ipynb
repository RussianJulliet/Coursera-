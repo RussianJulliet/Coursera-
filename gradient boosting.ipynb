{
 "cells": [
  {
   "cell_type": "markdown",
   "metadata": {},
   "source": [
    "# Градиентный бустинг над решающими деревьями"
   ]
  },
  {
   "cell_type": "code",
   "execution_count": 28,
   "metadata": {},
   "outputs": [],
   "source": [
    "import pandas as pd\n",
    "import numpy as np\n",
    "import sklearn\n",
    "from sklearn.model_selection import train_test_split\n",
    "from sklearn.ensemble import GradientBoostingClassifier\n",
    "from sklearn.metrics import log_loss\n",
    "import math\n",
    "import matplotlib.pyplot as plt"
   ]
  },
  {
   "cell_type": "markdown",
   "metadata": {},
   "source": [
    "Загрузите выборку из файла gbm-data.csv с помощью pandas и преобразуйте ее в массив numpy (параметр values у датафрейма). В первой колонке файла с данными записано, была или нет реакция. Все остальные колонки (d1 - d1776) содержат различные характеристики молекулы, такие как размер, форма и т.д. Разбейте выборку на обучающую и тестовую, используя функцию train_test_split с параметрами test_size = 0.8 и random_state = 241."
   ]
  },
  {
   "cell_type": "code",
   "execution_count": 8,
   "metadata": {},
   "outputs": [],
   "source": [
    "data = pd.read_csv('gbm-data.csv')"
   ]
  },
  {
   "cell_type": "code",
   "execution_count": 9,
   "metadata": {},
   "outputs": [
    {
     "data": {
      "text/html": [
       "<div>\n",
       "<style scoped>\n",
       "    .dataframe tbody tr th:only-of-type {\n",
       "        vertical-align: middle;\n",
       "    }\n",
       "\n",
       "    .dataframe tbody tr th {\n",
       "        vertical-align: top;\n",
       "    }\n",
       "\n",
       "    .dataframe thead th {\n",
       "        text-align: right;\n",
       "    }\n",
       "</style>\n",
       "<table border=\"1\" class=\"dataframe\">\n",
       "  <thead>\n",
       "    <tr style=\"text-align: right;\">\n",
       "      <th></th>\n",
       "      <th>Activity</th>\n",
       "      <th>D1</th>\n",
       "      <th>D2</th>\n",
       "      <th>D3</th>\n",
       "      <th>D4</th>\n",
       "      <th>D5</th>\n",
       "      <th>D6</th>\n",
       "      <th>D7</th>\n",
       "      <th>D8</th>\n",
       "      <th>D9</th>\n",
       "      <th>...</th>\n",
       "      <th>D1767</th>\n",
       "      <th>D1768</th>\n",
       "      <th>D1769</th>\n",
       "      <th>D1770</th>\n",
       "      <th>D1771</th>\n",
       "      <th>D1772</th>\n",
       "      <th>D1773</th>\n",
       "      <th>D1774</th>\n",
       "      <th>D1775</th>\n",
       "      <th>D1776</th>\n",
       "    </tr>\n",
       "  </thead>\n",
       "  <tbody>\n",
       "    <tr>\n",
       "      <td>0</td>\n",
       "      <td>1</td>\n",
       "      <td>0.000000</td>\n",
       "      <td>0.497009</td>\n",
       "      <td>0.10</td>\n",
       "      <td>0.0</td>\n",
       "      <td>0.132956</td>\n",
       "      <td>0.678031</td>\n",
       "      <td>0.273166</td>\n",
       "      <td>0.585445</td>\n",
       "      <td>0.743663</td>\n",
       "      <td>...</td>\n",
       "      <td>0</td>\n",
       "      <td>0</td>\n",
       "      <td>0</td>\n",
       "      <td>0</td>\n",
       "      <td>0</td>\n",
       "      <td>0</td>\n",
       "      <td>0</td>\n",
       "      <td>0</td>\n",
       "      <td>0</td>\n",
       "      <td>0</td>\n",
       "    </tr>\n",
       "    <tr>\n",
       "      <td>1</td>\n",
       "      <td>1</td>\n",
       "      <td>0.366667</td>\n",
       "      <td>0.606291</td>\n",
       "      <td>0.05</td>\n",
       "      <td>0.0</td>\n",
       "      <td>0.111209</td>\n",
       "      <td>0.803455</td>\n",
       "      <td>0.106105</td>\n",
       "      <td>0.411754</td>\n",
       "      <td>0.836582</td>\n",
       "      <td>...</td>\n",
       "      <td>1</td>\n",
       "      <td>1</td>\n",
       "      <td>1</td>\n",
       "      <td>1</td>\n",
       "      <td>0</td>\n",
       "      <td>1</td>\n",
       "      <td>0</td>\n",
       "      <td>0</td>\n",
       "      <td>1</td>\n",
       "      <td>0</td>\n",
       "    </tr>\n",
       "    <tr>\n",
       "      <td>2</td>\n",
       "      <td>1</td>\n",
       "      <td>0.033300</td>\n",
       "      <td>0.480124</td>\n",
       "      <td>0.00</td>\n",
       "      <td>0.0</td>\n",
       "      <td>0.209791</td>\n",
       "      <td>0.610350</td>\n",
       "      <td>0.356453</td>\n",
       "      <td>0.517720</td>\n",
       "      <td>0.679051</td>\n",
       "      <td>...</td>\n",
       "      <td>0</td>\n",
       "      <td>0</td>\n",
       "      <td>0</td>\n",
       "      <td>0</td>\n",
       "      <td>0</td>\n",
       "      <td>0</td>\n",
       "      <td>0</td>\n",
       "      <td>0</td>\n",
       "      <td>0</td>\n",
       "      <td>0</td>\n",
       "    </tr>\n",
       "    <tr>\n",
       "      <td>3</td>\n",
       "      <td>1</td>\n",
       "      <td>0.000000</td>\n",
       "      <td>0.538825</td>\n",
       "      <td>0.00</td>\n",
       "      <td>0.5</td>\n",
       "      <td>0.196344</td>\n",
       "      <td>0.724230</td>\n",
       "      <td>0.235606</td>\n",
       "      <td>0.288764</td>\n",
       "      <td>0.805110</td>\n",
       "      <td>...</td>\n",
       "      <td>0</td>\n",
       "      <td>0</td>\n",
       "      <td>0</td>\n",
       "      <td>0</td>\n",
       "      <td>0</td>\n",
       "      <td>0</td>\n",
       "      <td>0</td>\n",
       "      <td>0</td>\n",
       "      <td>0</td>\n",
       "      <td>0</td>\n",
       "    </tr>\n",
       "    <tr>\n",
       "      <td>4</td>\n",
       "      <td>0</td>\n",
       "      <td>0.100000</td>\n",
       "      <td>0.517794</td>\n",
       "      <td>0.00</td>\n",
       "      <td>0.0</td>\n",
       "      <td>0.494734</td>\n",
       "      <td>0.781422</td>\n",
       "      <td>0.154361</td>\n",
       "      <td>0.303809</td>\n",
       "      <td>0.812646</td>\n",
       "      <td>...</td>\n",
       "      <td>0</td>\n",
       "      <td>0</td>\n",
       "      <td>0</td>\n",
       "      <td>0</td>\n",
       "      <td>0</td>\n",
       "      <td>0</td>\n",
       "      <td>0</td>\n",
       "      <td>0</td>\n",
       "      <td>0</td>\n",
       "      <td>0</td>\n",
       "    </tr>\n",
       "  </tbody>\n",
       "</table>\n",
       "<p>5 rows × 1777 columns</p>\n",
       "</div>"
      ],
      "text/plain": [
       "   Activity        D1        D2    D3   D4        D5        D6        D7  \\\n",
       "0         1  0.000000  0.497009  0.10  0.0  0.132956  0.678031  0.273166   \n",
       "1         1  0.366667  0.606291  0.05  0.0  0.111209  0.803455  0.106105   \n",
       "2         1  0.033300  0.480124  0.00  0.0  0.209791  0.610350  0.356453   \n",
       "3         1  0.000000  0.538825  0.00  0.5  0.196344  0.724230  0.235606   \n",
       "4         0  0.100000  0.517794  0.00  0.0  0.494734  0.781422  0.154361   \n",
       "\n",
       "         D8        D9  ...  D1767  D1768  D1769  D1770  D1771  D1772  D1773  \\\n",
       "0  0.585445  0.743663  ...      0      0      0      0      0      0      0   \n",
       "1  0.411754  0.836582  ...      1      1      1      1      0      1      0   \n",
       "2  0.517720  0.679051  ...      0      0      0      0      0      0      0   \n",
       "3  0.288764  0.805110  ...      0      0      0      0      0      0      0   \n",
       "4  0.303809  0.812646  ...      0      0      0      0      0      0      0   \n",
       "\n",
       "   D1774  D1775  D1776  \n",
       "0      0      0      0  \n",
       "1      0      1      0  \n",
       "2      0      0      0  \n",
       "3      0      0      0  \n",
       "4      0      0      0  \n",
       "\n",
       "[5 rows x 1777 columns]"
      ]
     },
     "execution_count": 9,
     "metadata": {},
     "output_type": "execute_result"
    }
   ],
   "source": [
    "data.head()"
   ]
  },
  {
   "cell_type": "code",
   "execution_count": 12,
   "metadata": {},
   "outputs": [],
   "source": [
    "features = data.drop(['Activity'], axis=1)\n",
    "target = data['Activity']"
   ]
  },
  {
   "cell_type": "code",
   "execution_count": 16,
   "metadata": {},
   "outputs": [],
   "source": [
    "X_train, X_test, y_train, y_test = train_test_split(features, target, \n",
    "                                      test_size=0.8, \n",
    "                                      random_state=42)"
   ]
  },
  {
   "cell_type": "markdown",
   "metadata": {},
   "source": [
    "Обучите GradientBoostingClassifier с параметрами n_estimators=250, verbose=True, random_state=241 и для каждого значения learning_rate из списка [1, 0.5, 0.3, 0.2, 0.1] проделайте следующее:"
   ]
  },
  {
   "cell_type": "markdown",
   "metadata": {},
   "source": [
    "Используйте метод staged_decision_function для предсказания качества на обучающей и тестовой выборке на каждой итерации.\n",
    "Преобразуйте полученное предсказание с помощью сигмоидной функции по формуле 1 / (1 + e^{−y_pred}), где y_pred — предсказанное значение.\n",
    "Вычислите и постройте график значений log-loss (которую можно посчитать с помощью функции sklearn.metrics.log_loss) на обучающей и тестовой выборках, а также найдите минимальное значение метрики и номер итерации, на которой оно достигается."
   ]
  },
  {
   "cell_type": "code",
   "execution_count": 35,
   "metadata": {
    "scrolled": true
   },
   "outputs": [
    {
     "name": "stdout",
     "output_type": "stream",
     "text": [
      "      Iter       Train Loss   Remaining Time \n",
      "         1           0.9702           13.37s\n",
      "         2           0.8545           11.57s\n",
      "         3           0.7683           10.37s\n",
      "         4           0.6936            9.82s\n",
      "         5           0.6607            8.89s\n",
      "         6           0.6001            9.21s\n",
      "         7           0.5658            8.80s\n",
      "         8           0.5447            8.24s\n",
      "         9           0.5155            8.06s\n",
      "        10           0.4857            7.84s\n",
      "        20           0.2281            7.23s\n",
      "        30           0.1289            6.54s\n",
      "        40           0.0877            6.06s\n",
      "        50           0.0620            5.81s\n",
      "        60           0.0414            5.59s\n",
      "        70           0.0281            5.19s\n",
      "        80           0.0188            4.90s\n",
      "        90           0.0133            4.57s\n",
      "       100           0.0092            4.25s\n",
      "       200           0.0004            1.27s\n",
      "      Iter       Train Loss   Remaining Time \n",
      "         1           1.0910           11.68s\n",
      "         2           0.9724           11.75s\n",
      "         3           0.8760           11.63s\n",
      "         4           0.8128           10.69s\n",
      "         5           0.7601            9.96s\n",
      "         6           0.7137            9.74s\n",
      "         7           0.6763            9.12s\n",
      "         8           0.6600            8.51s\n",
      "         9           0.6340            8.22s\n",
      "        10           0.6118            8.04s\n",
      "        20           0.4100            7.03s\n",
      "        30           0.2665            6.75s\n",
      "        40           0.2010            6.15s\n",
      "        50           0.1517            5.77s\n",
      "        60           0.1201            5.40s\n",
      "        70           0.0938            5.13s\n",
      "        80           0.0724            4.84s\n",
      "        90           0.0618            4.46s\n",
      "       100           0.0502            4.15s\n",
      "       200           0.0059            1.37s\n",
      "      Iter       Train Loss   Remaining Time \n",
      "         1           1.1863           11.97s\n",
      "         2           1.0749           11.53s\n",
      "         3           0.9970           11.32s\n",
      "         4           0.9404           11.09s\n",
      "         5           0.8895           11.22s\n",
      "         6           0.8471           10.85s\n",
      "         7           0.8017           10.65s\n",
      "         8           0.7656           10.26s\n",
      "         9           0.7315           10.29s\n",
      "        10           0.7060           10.03s\n",
      "        20           0.5562            8.25s\n",
      "        30           0.4380            7.37s\n",
      "        40           0.3589            7.10s\n",
      "        50           0.2887            6.61s\n",
      "        60           0.2450            6.18s\n",
      "        70           0.2072            5.70s\n",
      "        80           0.1805            5.24s\n",
      "        90           0.1594            4.82s\n",
      "       100           0.1323            4.53s\n",
      "       200           0.0275            1.47s\n",
      "      Iter       Train Loss   Remaining Time \n",
      "         1           1.2452           12.12s\n",
      "         2           1.1490           11.85s\n",
      "         3           1.0778           11.56s\n",
      "         4           1.0255           11.32s\n",
      "         5           0.9762           11.42s\n",
      "         6           0.9297           11.43s\n",
      "         7           0.8981           11.36s\n",
      "         8           0.8655           10.95s\n",
      "         9           0.8377           10.61s\n",
      "        10           0.8191           10.61s\n",
      "        20           0.6407            8.92s\n",
      "        30           0.5674            7.40s\n",
      "        40           0.4894            6.81s\n",
      "        50           0.4220            6.37s\n",
      "        60           0.3573            6.02s\n",
      "        70           0.3241            5.52s\n",
      "        80           0.2875            5.16s\n",
      "        90           0.2544            4.85s\n",
      "       100           0.2309            4.48s\n",
      "       200           0.0845            1.52s\n",
      "      Iter       Train Loss   Remaining Time \n",
      "         1           1.3118           11.87s\n",
      "         2           1.2508           11.52s\n",
      "         3           1.1985           11.20s\n",
      "         4           1.1550           11.09s\n",
      "         5           1.1170           11.23s\n",
      "         6           1.0853           11.33s\n",
      "         7           1.0563           11.25s\n",
      "         8           1.0278           11.13s\n",
      "         9           1.0035           11.05s\n",
      "        10           0.9814           11.06s\n",
      "        20           0.8103           10.10s\n",
      "        30           0.7103            9.32s\n",
      "        40           0.6475            8.49s\n",
      "        50           0.5952            8.06s\n",
      "        60           0.5599            7.46s\n",
      "        70           0.5209            6.98s\n",
      "        80           0.4921            6.49s\n",
      "        90           0.4602            6.01s\n",
      "       100           0.4314            5.53s\n",
      "       200           0.2327            1.69s\n"
     ]
    }
   ],
   "source": [
    "leaning_rate=[1, 0.5, 0.3, 0.2, 0.1]\n",
    "log_loss_graph_train=[]\n",
    "log_loss_graph_test=[]\n",
    "for i in leaning_rate:\n",
    "    clf = GradientBoostingClassifier(n_estimators=250,  verbose=True, learning_rate=i, random_state=241)\n",
    "    clf.fit(X_train, y_train)\n",
    "    #качество построенной композиции на каждой итерации\n",
    "    #score_pred_train = clf.staged_decision_function(X_train)\n",
    "    #score_pred_test = clf.staged_decision_function(X_test)\n",
    "    #преобразовываем в сигмоидную функцию\n",
    "    #score_pred_train_mod = (1 / (1 + math.exp(-score_pred_train)))\n",
    "    #score_pred_test_mod = (1 / (1 + math.exp(-score_pred_test)))\n",
    "    #предсказания принадлежности классу\n",
    "    pred_train = clf.predict_proba(X_train)\n",
    "    pred_test = clf.predict_proba(X_test)\n",
    "    log_loss_graph_train.append(log_loss(y_train, pred_train))\n",
    "    log_loss_graph_test.append(log_loss(y_test, pred_test))                           "
   ]
  },
  {
   "cell_type": "code",
   "execution_count": 32,
   "metadata": {},
   "outputs": [
    {
     "data": {
      "text/plain": [
       "<matplotlib.legend.Legend at 0x7f4e4e183a90>"
      ]
     },
     "execution_count": 32,
     "metadata": {},
     "output_type": "execute_result"
    },
    {
     "data": {
      "image/png": "[encoded data removed]",
      "text/plain": [
       "<Figure size 432x288 with 1 Axes>"
      ]
     },
     "metadata": {
      "needs_background": "light"
     },
     "output_type": "display_data"
    }
   ],
   "source": [
    "%matplotlib inline\n",
    "plt.figure()\n",
    "plt.plot(log_loss_graph_train, 'r', linewidth=2)\n",
    "plt.plot(log_loss_graph_test, 'g', linewidth=2)\n",
    "plt.legend(['test', 'train'])"
   ]
  },
  {
   "cell_type": "code",
   "execution_count": 33,
   "metadata": {},
   "outputs": [
    {
     "name": "stdout",
     "output_type": "stream",
     "text": [
      "      Iter       Train Loss   Remaining Time \n",
      "         1           0.9702           14.61s\n",
      "         2           0.8545           12.12s\n",
      "         3           0.7683           10.75s\n",
      "         4           0.6936           10.12s\n",
      "         5           0.6607            9.13s\n",
      "         6           0.6001            9.83s\n",
      "         7           0.5658            9.36s\n",
      "         8           0.5447            8.76s\n",
      "         9           0.5155            8.53s\n",
      "        10           0.4857            8.25s\n",
      "        20           0.2281            7.54s\n",
      "        30           0.1289            6.78s\n",
      "        40           0.0877            6.25s\n",
      "        50           0.0620            6.02s\n",
      "        60           0.0414            5.78s\n",
      "        70           0.0281            5.49s\n",
      "        80           0.0188            5.16s\n",
      "        90           0.0133            4.85s\n",
      "       100           0.0092            4.50s\n",
      "       200           0.0004            1.35s\n",
      "1.4641275179005981\n",
      "0.5964664658901574\n"
     ]
    },
    {
     "data": {
      "image/png": "[encoded data removed]",
      "text/plain": [
       "<Figure size 432x288 with 1 Axes>"
      ]
     },
     "metadata": {
      "needs_background": "light"
     },
     "output_type": "display_data"
    },
    {
     "name": "stdout",
     "output_type": "stream",
     "text": [
      "      Iter       Train Loss   Remaining Time \n",
      "         1           1.0910           12.55s\n",
      "         2           0.9724           12.29s\n",
      "         3           0.8760           12.17s\n",
      "         4           0.8128           11.27s\n",
      "         5           0.7601           10.66s\n",
      "         6           0.7137           10.53s\n",
      "         7           0.6763            9.89s\n",
      "         8           0.6600            9.24s\n",
      "         9           0.6340            8.89s\n",
      "        10           0.6118            8.62s\n",
      "        20           0.4100            7.47s\n",
      "        30           0.2665            7.21s\n",
      "        40           0.2010            6.52s\n",
      "        50           0.1517            6.06s\n",
      "        60           0.1201            5.64s\n",
      "        70           0.0938            5.33s\n",
      "        80           0.0724            5.02s\n",
      "        90           0.0618            4.61s\n",
      "       100           0.0502            4.29s\n",
      "       200           0.0059            1.58s\n",
      "1.0635642162762\n",
      "0.548750681578218\n"
     ]
    },
    {
     "data": {
      "image/png": "[encoded data removed]",
      "text/plain": [
       "<Figure size 432x288 with 1 Axes>"
      ]
     },
     "metadata": {
      "needs_background": "light"
     },
     "output_type": "display_data"
    },
    {
     "name": "stdout",
     "output_type": "stream",
     "text": [
      "      Iter       Train Loss   Remaining Time \n",
      "         1           1.1863           12.71s\n",
      "         2           1.0749           12.60s\n",
      "         3           0.9970           12.68s\n",
      "         4           0.9404           12.51s\n",
      "         5           0.8895           12.45s\n",
      "         6           0.8471           11.99s\n",
      "         7           0.8017           11.95s\n",
      "         8           0.7656           11.67s\n",
      "         9           0.7315           11.91s\n",
      "        10           0.7060           11.63s\n",
      "        20           0.5562            9.54s\n",
      "        30           0.4380            8.70s\n",
      "        40           0.3589            8.19s\n",
      "        50           0.2887            7.79s\n",
      "        60           0.2450            7.14s\n",
      "        70           0.2072            6.54s\n",
      "        80           0.1805            6.02s\n",
      "        90           0.1594            5.51s\n",
      "       100           0.1323            5.13s\n",
      "       200           0.0275            1.63s\n",
      "0.8302056383482855\n",
      "0.5315665548708755\n"
     ]
    },
    {
     "data": {
      "image/png": "[encoded data removed]",
      "text/plain": [
       "<Figure size 432x288 with 1 Axes>"
      ]
     },
     "metadata": {
      "needs_background": "light"
     },
     "output_type": "display_data"
    },
    {
     "name": "stdout",
     "output_type": "stream",
     "text": [
      "      Iter       Train Loss   Remaining Time \n",
      "         1           1.2452           12.57s\n",
      "         2           1.1490           12.32s\n",
      "         3           1.0778           12.13s\n",
      "         4           1.0255           11.83s\n",
      "         5           0.9762           11.83s\n",
      "         6           0.9297           11.72s\n",
      "         7           0.8981           11.69s\n",
      "         8           0.8655           11.29s\n",
      "         9           0.8377           10.92s\n",
      "        10           0.8191           10.91s\n",
      "        20           0.6407            9.04s\n",
      "        30           0.5674            7.52s\n",
      "        40           0.4894            7.36s\n",
      "        50           0.4220            6.88s\n",
      "        60           0.3573            6.57s\n",
      "        70           0.3241            6.02s\n",
      "        80           0.2875            5.64s\n",
      "        90           0.2544            5.38s\n",
      "       100           0.2309            5.08s\n",
      "       200           0.0845            1.61s\n",
      "0.7131891542248765\n",
      "20\n",
      "0.529289896312563\n"
     ]
    },
    {
     "data": {
      "image/png": "[encoded data removed]",
      "text/plain": [
       "<Figure size 432x288 with 1 Axes>"
      ]
     },
     "metadata": {
      "needs_background": "light"
     },
     "output_type": "display_data"
    },
    {
     "name": "stdout",
     "output_type": "stream",
     "text": [
      "      Iter       Train Loss   Remaining Time \n",
      "         1           1.3118           16.33s\n",
      "         2           1.2508           16.21s\n",
      "         3           1.1985           15.72s\n",
      "         4           1.1550           15.80s\n",
      "         5           1.1170           15.56s\n",
      "         6           1.0853           15.37s\n",
      "         7           1.0563           15.21s\n",
      "         8           1.0278           14.89s\n",
      "         9           1.0035           14.79s\n",
      "        10           0.9814           14.69s\n",
      "        20           0.8103           12.50s\n",
      "        30           0.7103           11.00s\n",
      "        40           0.6475            9.96s\n",
      "        50           0.5952            9.13s\n",
      "        60           0.5599            8.16s\n",
      "        70           0.5209            7.35s\n",
      "        80           0.4921            6.60s\n",
      "        90           0.4602            6.03s\n",
      "       100           0.4314            5.51s\n",
      "       200           0.2327            1.64s\n",
      "0.6660053557462874\n",
      "0.5280448945240224\n"
     ]
    },
    {
     "data": {
      "image/png": "[encoded data removed]",
      "text/plain": [
       "<Figure size 432x288 with 1 Axes>"
      ]
     },
     "metadata": {
      "needs_background": "light"
     },
     "output_type": "display_data"
    },
    {
     "name": "stdout",
     "output_type": "stream",
     "text": [
      "CPU times: user 40.3 s, sys: 104 ms, total: 40.4 s\n",
      "Wall time: 40.3 s\n"
     ]
    }
   ],
   "source": [
    "%%time\n",
    "from sklearn.metrics import log_loss\n",
    "learning_rate=[1, 0.5, 0.3, 0.2, 0.1]\n",
    "for i in range(5):\n",
    "    cf=GradientBoostingClassifier( n_estimators=250, verbose=True, random_state=241,learning_rate=learning_rate[i])\n",
    "    cf.fit(X_train,y_train)\n",
    "    test_loss = np.empty(250)\n",
    "    for m, y_decision in enumerate(cf.staged_decision_function(X_test)):\n",
    "        y_pred_test = 1.0/(1.0 + np.exp(-y_decision))\n",
    "        test_loss[m] = log_loss(y_test, y_pred_test)\n",
    "    print(test_loss.max())\n",
    "    if learning_rate[i]==0.2:\n",
    "        print(min(range(len(test_loss)), key=test_loss.__getitem__))\n",
    "    print(test_loss.min())\n",
    "\n",
    "    plt.figure()\n",
    "    plt.plot(test_loss, 'r', linewidth=2)\n",
    "    plt.show()"
   ]
  },
  {
   "cell_type": "code",
   "execution_count": null,
   "metadata": {},
   "outputs": [],
   "source": []
  }
 ],
 "metadata": {
  "kernelspec": {
   "display_name": "Python 3",
   "language": "python",
   "name": "python3"
  },
  "language_info": {
   "codemirror_mode": {
    "name": "ipython",
    "version": 3
   },
   "file_extension": ".py",
   "mimetype": "text/x-python",
   "name": "python",
   "nbconvert_exporter": "python",
   "pygments_lexer": "ipython3",
   "version": "3.7.3"
  }
 },
 "nbformat": 4,
 "nbformat_minor": 2
}
